{
  "nbformat": 4,
  "nbformat_minor": 0,
  "metadata": {
    "kernelspec": {
      "display_name": "Python 3",
      "language": "python",
      "name": "python3"
    },
    "language_info": {
      "codemirror_mode": {
        "name": "ipython",
        "version": 3
      },
      "file_extension": ".py",
      "mimetype": "text/x-python",
      "name": "python",
      "nbconvert_exporter": "python",
      "pygments_lexer": "ipython3",
      "version": "3.6.2"
    },
    "colab": {
      "name": "TensorFlow Audiobooks - Preprocessing with  Model .ipynb",
      "provenance": []
    }
  },
  "cells": [
    {
      "cell_type": "markdown",
      "metadata": {
        "id": "J4G4MzthKov9"
      },
      "source": [
        "# Audiobooks business case"
      ]
    },
    {
      "cell_type": "markdown",
      "metadata": {
        "id": "5KU3cRLMKowC"
      },
      "source": [
        "### Problem\n",
        "\n",
        "You are given data from an Audiobook App. Logically, it relates to the audio versions of books ONLY. Each customer in the database has made a purchase at least once, that's why he/she is in the database. We want to create a machine learning algorithm based on our available data that can predict if a customer will buy again from the Audiobook company.\n",
        "\n",
        "The main idea is that if a customer has a low probability of coming back, there is no reason to spend any money on advertising to him/her. If we can focus our efforts SOLELY on customers that are likely to convert again, we can make great savings. Moreover, this model can identify the most important metrics for a customer to come back again. Identifying new customers creates value and growth opportunities.\n",
        "\n",
        "You have a .csv summarizing the data. There are several variables: Customer ID, ), Book length overall (sum of the minute length of all purchases), Book length avg (average length in minutes of all purchases), Price paid_overall (sum of all purchases) ,Price Paid avg (average of all purchases), Review (a Boolean variable whether the customer left a review), Review out of 10 (if the customer left a review, his/her review out of 10, Total minutes listened, Completion (from 0 to 1), Support requests (number of support requests; everything from forgotten password to assistance for using the App), and Last visited minus purchase date (in days).\n",
        "\n",
        "These are the inputs (excluding customer ID, as it is completely arbitrary. It's more like a name, than a number).\n",
        "\n",
        "The targets are a Boolean variable (0 or 1). We are taking a period of 2 years in our inputs, and the next 6 months as targets. So, in fact, we are predicting if: based on the last 2 years of activity and engagement, a customer will convert in the next 6 months. 6 months sounds like a reasonable time. If they don't convert after 6 months, chances are they've gone to a competitor or didn't like the Audiobook way of digesting information. \n",
        "\n",
        "The task is simple: create a machine learning algorithm, which is able to predict if a customer will buy again. \n",
        "\n",
        "This is a classification problem with two classes: won't buy and will buy, represented by 0s and 1s. \n",
        "\n",
        "Good luck!"
      ]
    },
    {
      "cell_type": "markdown",
      "metadata": {
        "id": "LRv7vcZzKowD"
      },
      "source": [
        "## Preprocess the data. Balance the dataset. Create 3 datasets: training, validation, and test. Save the newly created sets in a tensor friendly format (e.g. *.npz)\n",
        "\n",
        "Since we are dealing with real life data, we will need to preprocess it a bit. This is the relevant code, which is not that hard, but is crucial to creating a good model.\n",
        "\n",
        "If you want to know how to do that, go through the code with comments. In any case, this should do the trick for most datasets organized in the way: many inputs, and then 1 cell containing the targets (supersized learning datasets). Keep in mind that a specific problem may require additional preprocessing.\n",
        "\n",
        "Note that we have removed the header row, which contains the names of the categories. We simply want the data."
      ]
    },
    {
      "cell_type": "markdown",
      "metadata": {
        "id": "vvMpRIEIKowE"
      },
      "source": [
        "### Extract the data from the csv"
      ]
    },
    {
      "cell_type": "code",
      "metadata": {
        "id": "31JzTZmpKowE"
      },
      "source": [
        "import numpy as np\n",
        "\n",
        "# We will use the sklearn preprocessing library, as it will be easier to standardize the data.\n",
        "from sklearn import preprocessing\n",
        "\n",
        "# Load the data\n",
        "raw_csv_data = np.loadtxt('/content/Audiobooks_data.csv',delimiter=',')\n",
        "\n",
        "# The inputs are all columns in the csv, except for the first one [:,0]\n",
        "# (which is just the arbitrary customer IDs that bear no useful information),\n",
        "# and the last one [:,-1] (which is our targets)\n",
        "\n",
        "unscaled_inputs_all = raw_csv_data[:,1:-1]\n",
        "\n",
        "# The targets are in the last column. That's how datasets are conventionally organized.\n",
        "targets_all = raw_csv_data[:,-1]"
      ],
      "execution_count": null,
      "outputs": []
    },
    {
      "cell_type": "markdown",
      "metadata": {
        "id": "zZHXqUfGKowF"
      },
      "source": [
        "### Balance the dataset"
      ]
    },
    {
      "cell_type": "code",
      "metadata": {
        "collapsed": true,
        "id": "hCzosplPKowG"
      },
      "source": [
        "# Count how many targets are 1 (meaning that the customer did convert)\n",
        "num_one_targets = int(np.sum(targets_all))\n",
        "\n",
        "# Set a counter for targets that are 0 (meaning that the customer did not convert)\n",
        "zero_targets_counter = 0\n",
        "\n",
        "# We want to create a \"balanced\" dataset, so we will have to remove some input/target pairs.\n",
        "# Declare a variable that will do that:\n",
        "indices_to_remove = []\n",
        "\n",
        "# Count the number of targets that are 0. \n",
        "# Once there are as many 0s as 1s, mark entries where the target is 0.\n",
        "for i in range(targets_all.shape[0]):\n",
        "    if targets_all[i] == 0:\n",
        "        zero_targets_counter += 1\n",
        "        if zero_targets_counter > num_one_targets:\n",
        "            indices_to_remove.append(i)\n",
        "\n",
        "# Create two new variables, one that will contain the inputs, and one that will contain the targets.\n",
        "# We delete all indices that we marked \"to remove\" in the loop above.\n",
        "unscaled_inputs_equal_priors = np.delete(unscaled_inputs_all, indices_to_remove, axis=0)\n",
        "targets_equal_priors = np.delete(targets_all, indices_to_remove, axis=0)"
      ],
      "execution_count": null,
      "outputs": []
    },
    {
      "cell_type": "markdown",
      "metadata": {
        "id": "im9LfP8jKowH"
      },
      "source": [
        "### Standardize the inputs"
      ]
    },
    {
      "cell_type": "code",
      "metadata": {
        "id": "igfu6_ssKowH"
      },
      "source": [
        "# That's the only place we use sklearn functionality. We will take advantage of its preprocessing capabilities\n",
        "# It's a simple line of code, which standardizes the inputs, as we explained in one of the lectures.\n",
        "# At the end of the business case, you can try to run the algorithm WITHOUT this line of code. \n",
        "# The result will be interesting.\n",
        "scaled_inputs = preprocessing.scale(unscaled_inputs_equal_priors)"
      ],
      "execution_count": null,
      "outputs": []
    },
    {
      "cell_type": "markdown",
      "metadata": {
        "id": "H61MGm5YKowI"
      },
      "source": [
        "### Shuffle the data"
      ]
    },
    {
      "cell_type": "code",
      "metadata": {
        "collapsed": true,
        "id": "IH-QYmsGKowI"
      },
      "source": [
        "# When the data was collected it was actually arranged by date\n",
        "# Shuffle the indices of the data, so the data is not arranged in any way when we feed it.\n",
        "# Since we will be batching, we want the data to be as randomly spread out as possible\n",
        "shuffled_indices = np.arange(scaled_inputs.shape[0])\n",
        "np.random.shuffle(shuffled_indices)\n",
        "\n",
        "# Use the shuffled indices to shuffle the inputs and targets.\n",
        "shuffled_inputs = scaled_inputs[shuffled_indices]\n",
        "shuffled_targets = targets_equal_priors[shuffled_indices]"
      ],
      "execution_count": null,
      "outputs": []
    },
    {
      "cell_type": "markdown",
      "metadata": {
        "id": "IMzwgUITKowJ"
      },
      "source": [
        "### Split the dataset into train, validation, and test"
      ]
    },
    {
      "cell_type": "code",
      "metadata": {
        "colab": {
          "base_uri": "https://localhost:8080/"
        },
        "id": "Cr0zEl4KKowJ",
        "outputId": "fa4e5f0d-97ad-4d88-d5c0-e4da800fdbe3"
      },
      "source": [
        "# Count the total number of samples\n",
        "samples_count = shuffled_inputs.shape[0]\n",
        "\n",
        "# Count the samples in each subset, assuming we want 80-10-10 distribution of training, validation, and test.\n",
        "# Naturally, the numbers are integers.\n",
        "train_samples_count = int(0.8 * samples_count)\n",
        "validation_samples_count = int(0.1 * samples_count)\n",
        "\n",
        "# The 'test' dataset contains all remaining data.\n",
        "test_samples_count = samples_count - train_samples_count - validation_samples_count\n",
        "\n",
        "# Create variables that record the inputs and targets for training\n",
        "# In our shuffled dataset, they are the first \"train_samples_count\" observations\n",
        "train_inputs = shuffled_inputs[:train_samples_count]\n",
        "train_targets = shuffled_targets[:train_samples_count]\n",
        "\n",
        "# Create variables that record the inputs and targets for validation.\n",
        "# They are the next \"validation_samples_count\" observations, folllowing the \"train_samples_count\" we already assigned\n",
        "validation_inputs = shuffled_inputs[train_samples_count:train_samples_count+validation_samples_count]\n",
        "validation_targets = shuffled_targets[train_samples_count:train_samples_count+validation_samples_count]\n",
        "\n",
        "# Create variables that record the inputs and targets for test.\n",
        "# They are everything that is remaining.\n",
        "test_inputs = shuffled_inputs[train_samples_count+validation_samples_count:]\n",
        "test_targets = shuffled_targets[train_samples_count+validation_samples_count:]\n",
        "\n",
        "# We balanced our dataset to be 50-50 (for targets 0 and 1), but the training, validation, and test were \n",
        "# taken from a shuffled dataset. Check if they are balanced, too. Note that each time you rerun this code, \n",
        "# you will get different values, as each time they are shuffled randomly.\n",
        "# Normally you preprocess ONCE, so you need not rerun this code once it is done.\n",
        "# If you rerun this whole sheet, the npzs will be overwritten with your newly preprocessed data.\n",
        "\n",
        "# Print the number of targets that are 1s, the total number of samples, and the proportion for training, validation, and test.\n",
        "print(np.sum(train_targets), train_samples_count, np.sum(train_targets) / train_samples_count)\n",
        "print(np.sum(validation_targets), validation_samples_count, np.sum(validation_targets) / validation_samples_count)\n",
        "print(np.sum(test_targets), test_samples_count, np.sum(test_targets) / test_samples_count)"
      ],
      "execution_count": null,
      "outputs": [
        {
          "output_type": "stream",
          "name": "stdout",
          "text": [
            "1783.0 3579 0.4981838502374965\n",
            "230.0 447 0.5145413870246085\n",
            "224.0 448 0.5\n"
          ]
        }
      ]
    },
    {
      "cell_type": "markdown",
      "metadata": {
        "id": "sfiedRLlKowK"
      },
      "source": [
        "### Save the three datasets in *.npz"
      ]
    },
    {
      "cell_type": "code",
      "metadata": {
        "collapsed": true,
        "id": "LeIDhNaGKowK"
      },
      "source": [
        "# Save the three datasets in *.npz.\n",
        "# In the next lesson, you will see that it is extremely valuable to name them in such a coherent way!\n",
        "\n",
        "np.savez('Audiobooks_data_train', inputs=train_inputs, targets=train_targets)\n",
        "np.savez('Audiobooks_data_validation', inputs=validation_inputs, targets=validation_targets)\n",
        "np.savez('Audiobooks_data_test', inputs=test_inputs, targets=test_targets)"
      ],
      "execution_count": null,
      "outputs": []
    },
    {
      "cell_type": "markdown",
      "metadata": {
        "id": "7V9jME1uMIQn"
      },
      "source": [
        "#Machine Learning Model"
      ]
    },
    {
      "cell_type": "code",
      "metadata": {
        "id": "bkGw8L2pLxIv"
      },
      "source": [
        "import numpy as np\n",
        "import tensorflow as tf"
      ],
      "execution_count": null,
      "outputs": []
    },
    {
      "cell_type": "markdown",
      "metadata": {
        "id": "K7fChMFBO0Rt"
      },
      "source": [
        "# Data "
      ]
    },
    {
      "cell_type": "code",
      "metadata": {
        "id": "TmB0yzMOLxGm"
      },
      "source": [
        "npz_train = np.load('/content/Audiobooks_data_train.npz')\n",
        "\n",
        "#Defining Inputs and Targets\n",
        "#Train Data\n",
        "train_inputs = npz_train['inputs'].astype(np.float)\n",
        "train_targets = npz_train['targets'].astype(np.float)\n",
        "#Validation Data\n",
        "npz_val = np.load(\"/content/Audiobooks_data_validation.npz\")\n",
        "validation_inputs = npz_val['inputs'].astype(np.float)\n",
        "validation_targets = npz_val['targets'].astype(np.float)\n",
        "# Test Data\n",
        "npz_test = np.load('/content/Audiobooks_data_test.npz')\n",
        "test_inputs = npz_test['inputs'].astype(np.float)\n",
        "test_targets = npz_test['targets'].astype(np.float)"
      ],
      "execution_count": null,
      "outputs": []
    },
    {
      "cell_type": "markdown",
      "metadata": {
        "id": "QuAsyu_MOy8o"
      },
      "source": [
        "# Model"
      ]
    },
    {
      "cell_type": "code",
      "metadata": {
        "id": "BCjOFRDkLxDf"
      },
      "source": [
        "input_size = 30\n",
        "output_size = 2\n",
        "hidden_layers_size = 40 \n",
        "\n",
        "model = tf.keras.Sequential([\n",
        "                             tf.keras.layers.Dense(hidden_layers_size,activation='relu'),\n",
        "                             tf.keras.layers.Dense(hidden_layers_size,activation='relu'),\n",
        "                             tf.keras.layers.Dense(output_size,activation='softmax')\n",
        "                             ])\n",
        "model.compile(optimizer=\"Adam\", loss=\"sparse_categorical_crossentropy\", metrics=['Accuracy'])"
      ],
      "execution_count": null,
      "outputs": []
    },
    {
      "cell_type": "code",
      "metadata": {
        "id": "UzVvDqG1LxA3"
      },
      "source": [
        "batch_size = 100\n",
        "epochs = 100"
      ],
      "execution_count": null,
      "outputs": []
    },
    {
      "cell_type": "code",
      "metadata": {
        "id": "5Vydg9gYR9xx"
      },
      "source": [
        "#Early Stopping\n",
        "\n",
        "early_stopping = tf.keras.callbacks.EarlyStopping(patience =2)"
      ],
      "execution_count": null,
      "outputs": []
    },
    {
      "cell_type": "code",
      "metadata": {
        "colab": {
          "base_uri": "https://localhost:8080/"
        },
        "id": "aYS0rWiMLw-h",
        "outputId": "7bf74a12-cc9e-4c1c-d78b-75990ec1cc3e"
      },
      "source": [
        "model.fit(train_inputs,\n",
        "          train_targets,\n",
        "          batch_size = batch_size,\n",
        "          epochs = epochs,\n",
        "          callbacks = [early_stopping],\n",
        "          validation_data =[validation_inputs,validation_targets],\n",
        "          verbose = 2)"
      ],
      "execution_count": null,
      "outputs": [
        {
          "output_type": "stream",
          "name": "stdout",
          "text": [
            "Epoch 1/100\n",
            "36/36 - 1s - loss: 0.6204 - Accuracy: 0.6343 - val_loss: 0.5225 - val_Accuracy: 0.7852 - 665ms/epoch - 18ms/step\n",
            "Epoch 2/100\n",
            "36/36 - 0s - loss: 0.4930 - Accuracy: 0.7530 - val_loss: 0.4479 - val_Accuracy: 0.8054 - 85ms/epoch - 2ms/step\n",
            "Epoch 3/100\n",
            "36/36 - 0s - loss: 0.4386 - Accuracy: 0.7712 - val_loss: 0.4068 - val_Accuracy: 0.8054 - 78ms/epoch - 2ms/step\n",
            "Epoch 4/100\n",
            "36/36 - 0s - loss: 0.4088 - Accuracy: 0.7840 - val_loss: 0.3785 - val_Accuracy: 0.8166 - 92ms/epoch - 3ms/step\n",
            "Epoch 5/100\n",
            "36/36 - 0s - loss: 0.3960 - Accuracy: 0.7902 - val_loss: 0.3646 - val_Accuracy: 0.8233 - 89ms/epoch - 2ms/step\n",
            "Epoch 6/100\n",
            "36/36 - 0s - loss: 0.3791 - Accuracy: 0.7949 - val_loss: 0.3546 - val_Accuracy: 0.8188 - 99ms/epoch - 3ms/step\n",
            "Epoch 7/100\n",
            "36/36 - 0s - loss: 0.3700 - Accuracy: 0.7985 - val_loss: 0.3423 - val_Accuracy: 0.8322 - 93ms/epoch - 3ms/step\n",
            "Epoch 8/100\n",
            "36/36 - 0s - loss: 0.3626 - Accuracy: 0.8036 - val_loss: 0.3322 - val_Accuracy: 0.8568 - 92ms/epoch - 3ms/step\n",
            "Epoch 9/100\n",
            "36/36 - 0s - loss: 0.3578 - Accuracy: 0.8011 - val_loss: 0.3313 - val_Accuracy: 0.8322 - 82ms/epoch - 2ms/step\n",
            "Epoch 10/100\n",
            "36/36 - 0s - loss: 0.3525 - Accuracy: 0.8080 - val_loss: 0.3238 - val_Accuracy: 0.8523 - 78ms/epoch - 2ms/step\n",
            "Epoch 11/100\n",
            "36/36 - 0s - loss: 0.3496 - Accuracy: 0.8066 - val_loss: 0.3235 - val_Accuracy: 0.8523 - 83ms/epoch - 2ms/step\n",
            "Epoch 12/100\n",
            "36/36 - 0s - loss: 0.3475 - Accuracy: 0.8089 - val_loss: 0.3184 - val_Accuracy: 0.8680 - 90ms/epoch - 3ms/step\n",
            "Epoch 13/100\n",
            "36/36 - 0s - loss: 0.3444 - Accuracy: 0.8083 - val_loss: 0.3159 - val_Accuracy: 0.8501 - 90ms/epoch - 3ms/step\n",
            "Epoch 14/100\n",
            "36/36 - 0s - loss: 0.3426 - Accuracy: 0.8089 - val_loss: 0.3238 - val_Accuracy: 0.8233 - 77ms/epoch - 2ms/step\n",
            "Epoch 15/100\n",
            "36/36 - 0s - loss: 0.3392 - Accuracy: 0.8131 - val_loss: 0.3117 - val_Accuracy: 0.8613 - 78ms/epoch - 2ms/step\n",
            "Epoch 16/100\n",
            "36/36 - 0s - loss: 0.3368 - Accuracy: 0.8083 - val_loss: 0.3082 - val_Accuracy: 0.8568 - 92ms/epoch - 3ms/step\n",
            "Epoch 17/100\n",
            "36/36 - 0s - loss: 0.3353 - Accuracy: 0.8145 - val_loss: 0.3201 - val_Accuracy: 0.8233 - 92ms/epoch - 3ms/step\n",
            "Epoch 18/100\n",
            "36/36 - 0s - loss: 0.3358 - Accuracy: 0.8156 - val_loss: 0.3116 - val_Accuracy: 0.8456 - 87ms/epoch - 2ms/step\n"
          ]
        },
        {
          "output_type": "execute_result",
          "data": {
            "text/plain": [
              "<keras.callbacks.History at 0x7f4937aa3fd0>"
            ]
          },
          "metadata": {},
          "execution_count": 42
        }
      ]
    },
    {
      "cell_type": "markdown",
      "metadata": {
        "id": "oEDGQRX5UBBZ"
      },
      "source": [
        "#Testing The Model"
      ]
    },
    {
      "cell_type": "code",
      "metadata": {
        "colab": {
          "base_uri": "https://localhost:8080/"
        },
        "id": "fv5YgB4eLw8I",
        "outputId": "0827a720-8ddd-4fed-ea3a-2335923539dd"
      },
      "source": [
        "test_loss,test_accuracy = model.evaluate(test_inputs,test_targets)"
      ],
      "execution_count": null,
      "outputs": [
        {
          "output_type": "stream",
          "name": "stdout",
          "text": [
            "14/14 [==============================] - 0s 2ms/step - loss: 0.3554 - Accuracy: 0.7969\n"
          ]
        }
      ]
    },
    {
      "cell_type": "code",
      "metadata": {
        "id": "hLFIwNeJLw3n"
      },
      "source": [
        ""
      ],
      "execution_count": null,
      "outputs": []
    }
  ]
}